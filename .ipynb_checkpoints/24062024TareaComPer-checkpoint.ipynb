{
 "cells": [
  {
   "cell_type": "markdown",
   "id": "c713dc2b-1ca5-4243-9d39-11aaeea21445",
   "metadata": {},
   "source": [
    "# Ejercicio 13"
   ]
  },
  {
   "cell_type": "markdown",
   "id": "0819f5ab-8dcf-4fd5-9642-b533cd6aaed1",
   "metadata": {},
   "source": [
    "Cultura. Una persona tiene un libro de cada uno de los autores siguientes: Mario Vargas Llosa, \n",
    "Alberto Ruy Sánchez, Gabriel García Márquez, Günther Grass, Patrick Süskind, Heinrich Böll, \n",
    "Arturo Pérez-Reverte y Camilo José Cela. Como aún no los ha leído, quiere ponerlos en una \n",
    "repisa cerca de su cama. De acuerdo con esto, determina:  \n",
    "- a) ¿De cuántas formas puede acomodar los libros sobre la repisa?\n"
   ]
  },
  {
   "cell_type": "markdown",
   "id": "a07b5ce3-addf-4d3a-b7cf-42eb428c5d6a",
   "metadata": {},
   "source": [
    "Son un total de 8 autores, entonces se elebora el factorial de este número:\n",
    "\n",
    "**8! =** $8 \\cdot 7 \\cdot 6 \\cdot 5 \\cdot 4 \\cdot 3 \\cdot 2 \\cdot 1 = 4320$. *Se pueden acomodar de 4320 maneras diferentes*."
   ]
  },
  {
   "cell_type": "code",
   "execution_count": 31,
   "id": "10064f32-0fbd-4ab6-b067-e0d6eee14cf7",
   "metadata": {},
   "outputs": [
    {
     "name": "stdout",
     "output_type": "stream",
     "text": [
      "Maneras de acomodar los libros:  40320\n"
     ]
    }
   ],
   "source": [
    "# Implementacion de la solucion del inciso a) del ejercicio 13\n",
    "import math\n",
    "resultado = math.factorial(8)\n",
    "print(\"Maneras de acomodar los libros: \", resultado)"
   ]
  },
  {
   "cell_type": "markdown",
   "id": "c7ba7bff-c4ba-4d75-b58d-4a8275b50ab5",
   "metadata": {},
   "source": [
    "- b) ¿De cuántas maneras puede ordenarlos si quiere que los libros de autores latinoamericanos \n",
    "estén juntos?"
   ]
  },
  {
   "cell_type": "markdown",
   "id": "99ae0947-9514-4cca-8b28-7bf36095cc7a",
   "metadata": {},
   "source": [
    "Los libros de autores latinoamericanos deben estar juntos, por lo tanto se tomarán como un solo elemento, así que ahora tenemos 6 en total contemplando a los libros restantes. Prosiguiendo, se realiza el factorial con los 6 elementos que tenemos: \n",
    "\n",
    "**6! =** $6  \\cdot  5  \\cdot  4  \\cdot 3 \\cdot 2 \\cdot 1 = 720$.\n",
    "\n",
    "También debemos realizar el factorial del elemento que contiene los 3 libros de los autores latioamericanos:\n",
    "\n",
    "**3! =** $ 3 \\cdot 2 \\cdot 1 = 6$.\n",
    "\n",
    "Por último se multiplican los resultados de ambos factoriales:\n",
    "\n",
    " $ 720 \\cdot 6 = 4320$. *Se pueden ordenar de 4320 maneras mientras los autores latinoamericanos se encuentren juntos*."
   ]
  },
  {
   "cell_type": "code",
   "execution_count": 32,
   "id": "e9c9f31e-fde7-4364-88a2-9a8adad0945f",
   "metadata": {},
   "outputs": [
    {
     "name": "stdout",
     "output_type": "stream",
     "text": [
      "Pueden hacerlo de  4320 formas. \n"
     ]
    }
   ],
   "source": [
    "# Implementacion de la solucion del inciso b) del ejercicio 13\n",
    "\n",
    "factorial_6 = math.factorial(6)\n",
    "\n",
    "factorial_3 = math.factorial(3)\n",
    "\n",
    "resultado = factorial_6 * factorial_3\n",
    "\n",
    "print(\"Pueden hacerlo de \", resultado, \"formas. \")"
   ]
  },
  {
   "cell_type": "markdown",
   "id": "d912f24c-9fb0-4c88-82cf-aa1745918b41",
   "metadata": {},
   "source": [
    "- c) ¿De cuántas formas puede acomodarlos, si los autores latinoamericanos deben estar juntos, \n",
    "así como los autores alemanes y los españoles también?"
   ]
  },
  {
   "cell_type": "markdown",
   "id": "7c63bd63-0f9a-42d1-a47e-d290b7ce2ca4",
   "metadata": {},
   "source": [
    "Siguiendo la lógica del inciso anterior, se deben agrupar los elementos de acuerdo a  la nacionalidad de los autores de los libros, por ende se formarían 3 bloques y en cada uno se realiza el factorial de acuerdo a la cantidad de elementos de cada bloque:\n",
    "\n",
    "Bloque A: Contiene 3 elementos, los cuales corresponden a 3 libros de autores alemanes.\n",
    "\n",
    "**3! =** $ 3 \\cdot 2 \\cdot 1 = 6$.\n",
    "\n",
    "Bloque E: Contiene 2 elementos, los cuales corresponden a 2 libros de autores españoles.\n",
    "\n",
    "**2! =** $ 2 \\cdot 1 = 2$.\n",
    "\n",
    "Bloque L: Contiene 3 elementos, los cuales corresponden a 3 libros de autores latinoamericanos.\n",
    "\n",
    "**3! =** $ 3 \\cdot 2 \\cdot 1 = 6$.\n",
    "\n",
    "También se realiza el factorial de la cantidad de bloques que resultaron:\n",
    "\n",
    "**3! =** $ 3 \\cdot 2 \\cdot 1 = 6$.\n",
    "\n",
    "Realizamos la multiplicación de los resultados obtenidos:   \n",
    "$ 6 \\cdot 6 \\cdot 6 \\cdot 2 = 432$ *formas*.\n"
   ]
  },
  {
   "cell_type": "code",
   "execution_count": 33,
   "id": "a4d97087-035e-444a-8038-8acab68fb067",
   "metadata": {},
   "outputs": [
    {
     "name": "stdout",
     "output_type": "stream",
     "text": [
      "Pueden hacerlo de  432 maneras. \n"
     ]
    }
   ],
   "source": [
    "# Implementacion de la solucion del inciso c) del ejercicio 13\n",
    "\n",
    "factorial_A = math.factorial(3)\n",
    "\n",
    "factorial_E = math.factorial(2)\n",
    "\n",
    "factorial_L = math.factorial(3)\n",
    "\n",
    "factorial_3 = math.factorial(3)\n",
    "\n",
    "resultado = factorial_A * factorial_E * factorial_L * factorial_3\n",
    "\n",
    "print(\"Pueden hacerlo de \", resultado, \"maneras. \")\n"
   ]
  },
  {
   "cell_type": "markdown",
   "id": "82e3f1bc-cac5-4f51-a70a-76a74040368e",
   "metadata": {},
   "source": [
    "- d) Determina las probabilidades correspondientes a los incisos (b) y (c)."
   ]
  },
  {
   "cell_type": "markdown",
   "id": "ffe6b653-bb8d-4600-9445-682936ec9e7a",
   "metadata": {},
   "source": [
    "La siguiente fórmula se aplica a cada uno de los incisos:\n",
    "\n",
    "$$\n",
    "\\begin{align}\n",
    "     P(\\text{evento}) = \\frac{\\# \\text{ de casos favorables}}{\\# \\text{ de casos totales}} \n",
    "\\end{align}\n",
    "$$\n",
    "\n",
    "\n",
    "Para el inciso b, la probabilidad de que ocurra este evento es:\n",
    "\n",
    "$$\n",
    "\\begin{align} \n",
    "    P &= \\dfrac{4320}{40320} = 0.107\\\\\n",
    "\\end{align}\n",
    "$$\n",
    "\n",
    "Para el inciso c, la probabilidad de que ocurra este evento es:\n",
    "\n",
    "$$\n",
    "\\begin{align} \n",
    "    P &= \\dfrac{432}{40320} = 0.0107\\\\\n",
    "\\end{align}\n",
    "$$"
   ]
  },
  {
   "cell_type": "code",
   "execution_count": 34,
   "id": "0191902d-bfa4-4422-83bf-874d09d54ff5",
   "metadata": {},
   "outputs": [
    {
     "name": "stdout",
     "output_type": "stream",
     "text": [
      "Probabilidad de inciso b: \n",
      "0.10714285714285714\n",
      "Probabilidad de inciso c: \n",
      "0.010714285714285714\n"
     ]
    }
   ],
   "source": [
    "# Implementacion de la solucion del inciso d) del ejercicio 13\n",
    "\n",
    "print(\"Probabilidad de inciso b: \")\n",
    "print(4320/40320)\n",
    "\n",
    "print(\"Probabilidad de inciso c: \")\n",
    "print(432/40320)"
   ]
  },
  {
   "cell_type": "markdown",
   "id": "5479aeb9-3c22-4662-93e2-44e3a9fc9413",
   "metadata": {},
   "source": [
    "---"
   ]
  },
  {
   "cell_type": "markdown",
   "id": "06653c98-1612-44c1-a158-d3524c036b1b",
   "metadata": {},
   "source": [
    "# Ejercicio 15"
   ]
  },
  {
   "cell_type": "markdown",
   "id": "17fd41de-18ba-4773-9a96-b8e7f9929094",
   "metadata": {},
   "source": [
    "Futbol. Tres parejas (tres hombres y tres mujeres) compran boletos para ir a un partido de los \n",
    "Pumas. Cuando llegan al estadio de Ciudad Universitaria les surge la duda de cómo sentarse en \n",
    "la fila. ¿De cuántas maneras pueden hacerlo si:  \n",
    "\n",
    "- a) No hay restricciones?"
   ]
  },
  {
   "cell_type": "markdown",
   "id": "cd28ecda-9a24-43dd-8557-e043e8ee95f4",
   "metadata": {},
   "source": [
    "Se cuenta con 6 elementos, es decir, 3 hombres y 3 mujeres, entonces se realiza la siguiente permutación:\n",
    "\n",
    "**6! =** $6 \\cdot 5 \\cdot 4 \\cdot 3 \\cdot 2 \\cdot 1 = 720$. *Se pueden sentar en la fila de 720 maneras diferentes*.\n"
   ]
  },
  {
   "cell_type": "code",
   "execution_count": 35,
   "id": "8aa2365e-abc6-4423-9551-221fe2785d46",
   "metadata": {},
   "outputs": [
    {
     "name": "stdout",
     "output_type": "stream",
     "text": [
      "Resultado:  720\n"
     ]
    }
   ],
   "source": [
    "# Implementacion de la solucion del inciso a) del ejercicio 15\n",
    "\n",
    "resultado = math.factorial(6)\n",
    "print(\"Resultado: \", resultado)\n"
   ]
  },
  {
   "cell_type": "markdown",
   "id": "37e4dda7-1062-44af-b73d-af9b1b5277aa",
   "metadata": {},
   "source": [
    "- b) Los hombres deben sentarse juntos?"
   ]
  },
  {
   "cell_type": "markdown",
   "id": "809cc62e-b1db-4fe1-a05b-b916d27af998",
   "metadata": {},
   "source": [
    "De acuerdo a la misma cantidad de elementos (3 hombres + 3 mujeres = 6 elementos) se deben hacer las siguientes operaciones: \n",
    "Tomando en cuenta que los hombres deben estar juntos, se tomarán como un solo bloque o un super-elemento, así que ahora tenemos 4 en total contemplando a las 3 mujeres. Prosiguiendo, se realiza el factorial con los 4 elementos que tenemos: \n",
    "\n",
    "**4! =** $4  \\cdot 3 \\cdot 2 \\cdot 1 = 24$.\n",
    "\n",
    "También debemos realizar el factorial del bloque que contiene los 3 elementos correspondientes a los hombres:\n",
    "\n",
    "**3! =** $ 3 \\cdot 2 \\cdot 1 = 6$.\n",
    "\n",
    "Por último se multiplican los resultados de ambos factoriales:\n",
    "\n",
    " $ 24 \\cdot 6 = 144$. *Se pueden sentar de 144 maneras diferentes si los hombres se sientan juntos*."
   ]
  },
  {
   "cell_type": "code",
   "execution_count": 36,
   "id": "dc73a129-66c0-4b5f-a22d-861adb9eb97f",
   "metadata": {},
   "outputs": [
    {
     "name": "stdout",
     "output_type": "stream",
     "text": [
      "Pueden hacerlo de  144 maneras. \n"
     ]
    }
   ],
   "source": [
    "# Implementacion de la solucion del inciso b) del ejercicio 8\n",
    "\n",
    "factorial_4 = math.factorial(4)\n",
    "\n",
    "factorial_3 = math.factorial(3)\n",
    "\n",
    "resultado = factorial_4 * factorial_3\n",
    "\n",
    "print(\"Pueden hacerlo de \", resultado, \"maneras. \")"
   ]
  },
  {
   "cell_type": "markdown",
   "id": "eaae41b6-4969-480e-be40-2444d107dea4",
   "metadata": {},
   "source": [
    "- c) Deben sentarse por parejas?"
   ]
  },
  {
   "cell_type": "markdown",
   "id": "5a474867-41a8-4feb-8e6c-6ca99b28c655",
   "metadata": {},
   "source": [
    "Se considera que cada pareja, integrada por un hombre y una mujer, formará un bloque para dar lugar a 3 bloques en total, entonces se debe efectuar el factorial de dicha cantidad.  \n",
    "\n",
    "**3! =** $ 3 \\cdot 2 \\cdot 1 = 6$.\n",
    "\n",
    "Cada elemento del bloque puede cambiar de orden: Hombre y mujer o mujer y hombre. Dando lugar dos maneras de ordenarlos por bloque.\n",
    "\n",
    "$2 \\cdot 2\\cdot 2 = 8$.\n",
    "\n",
    "Por lo tanto:\n",
    "$ 6 \\cdot 8 = 48$ *maneras*.\n"
   ]
  },
  {
   "cell_type": "code",
   "execution_count": 37,
   "id": "12670186-367e-431d-9d2c-508113f6e99b",
   "metadata": {},
   "outputs": [
    {
     "name": "stdout",
     "output_type": "stream",
     "text": [
      "Hay  48  maneras de sentarse en parejas.\n"
     ]
    }
   ],
   "source": [
    "# Implementacion de la solucion del inciso c) del ejercicio 15\n",
    "\n",
    "factorial_3 = math.factorial(3)\n",
    "\n",
    "orden = 2 * 2 * 2\n",
    "\n",
    "resultado =  factorial_3 * orden\n",
    "\n",
    "print(\"Hay \", resultado, \" maneras de sentarse en parejas.\")"
   ]
  },
  {
   "cell_type": "markdown",
   "id": "ff71b286-5b74-4493-9009-7668a38b9446",
   "metadata": {},
   "source": [
    "- d) ¿Cuál es la probabilidad de cada uno de los eventos descritos en los incisos anteriores?"
   ]
  },
  {
   "cell_type": "markdown",
   "id": "e4ad1969-fa2c-4534-8443-e5173cfc5dbc",
   "metadata": {},
   "source": [
    "La siguiente fórmula se aplica a cada uno de los casos:\n",
    "\n",
    "$$\n",
    "\\begin{align}\n",
    "     P(\\text{evento}) = \\frac{\\# \\text{ de casos favorables}}{\\# \\text{ de casos totales}} \n",
    "\\end{align}\n",
    "$$\n",
    "\n",
    "\n",
    "Para el inciso a, la probabilidad de que ocurra este evento es:\n",
    "\n",
    "$$\n",
    "\\begin{align} \n",
    "    P &= \\dfrac{720}{720} = 1\\\\\n",
    "\\end{align}\n",
    "$$\n",
    "\n",
    "Para el inciso b, la probabilidad de que ocurra este evento es:\n",
    "\n",
    "$$\n",
    "\\begin{align} \n",
    "    P &= \\dfrac{144}{720} = 0.2\\\\\n",
    "\\end{align}\n",
    "$$\n",
    "\n",
    "Para el inciso c, la probabilidad de que ocurra este evento es:\n",
    "\n",
    "$$\n",
    "\\begin{align} \n",
    "    P &= \\dfrac{48}{720} = 0.0666\\\\\n",
    "\\end{align}\n",
    "$$\n"
   ]
  },
  {
   "cell_type": "code",
   "execution_count": 38,
   "id": "4714cd6c-bf8b-4910-b8b3-f67e9525bbbe",
   "metadata": {},
   "outputs": [
    {
     "name": "stdout",
     "output_type": "stream",
     "text": [
      "Probabilidad de inciso a: \n",
      "1.0\n",
      "Probabilidad de inciso b: \n",
      "0.2\n",
      "Probabilidad de inciso c: \n",
      "0.06666666666666667\n"
     ]
    }
   ],
   "source": [
    "# Implementacion de la solucion del inciso d) del ejercicio 15\n",
    "print(\"Probabilidad de inciso a: \")\n",
    "print(720/720)\n",
    "\n",
    "print(\"Probabilidad de inciso b: \")\n",
    "print(144/720)\n",
    "\n",
    "print(\"Probabilidad de inciso c: \")\n",
    "print(48/720)"
   ]
  },
  {
   "cell_type": "code",
   "execution_count": null,
   "id": "8a24b7aa-36e5-4c40-a3eb-93bb5471874e",
   "metadata": {},
   "outputs": [],
   "source": []
  }
 ],
 "metadata": {
  "kernelspec": {
   "display_name": "Python 3 (ipykernel)",
   "language": "python",
   "name": "python3"
  },
  "language_info": {
   "codemirror_mode": {
    "name": "ipython",
    "version": 3
   },
   "file_extension": ".py",
   "mimetype": "text/x-python",
   "name": "python",
   "nbconvert_exporter": "python",
   "pygments_lexer": "ipython3",
   "version": "3.12.4"
  }
 },
 "nbformat": 4,
 "nbformat_minor": 5
}
